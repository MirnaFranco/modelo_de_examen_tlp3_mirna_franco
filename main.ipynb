{
 "cells": [
  {
   "cell_type": "markdown",
   "id": "9fee5ee9",
   "metadata": {},
   "source": [
    "# Modelo de Examen Practico - TLP3 - Python para Ciencia de Datos.\n"
   ]
  },
  {
   "cell_type": "markdown",
   "id": "999099d0",
   "metadata": {},
   "source": [
    "**A partir del datasets brindado, realizar los siguientes procedimientos:**\n",
    "\n",
    "* Importar datasets con Pandas.\n",
    "* Explorar los datos con los metodos correspondientes. \n",
    "* Limpieza de los datos (Normalización de datos).\n",
    "* Obtener estadisticas.\n",
    "* Mostrar los datos procesados con graficos utilizando la libreria Matplotlib.\n",
    "* Exportar el contenido a un archivo sqlite utilizando PANDAS.\n",
    "\n",
    "\n",
    "**Importante: Se debe documentar cada procedimiento realizado, siguiendo la siguiente estructura:**\n",
    "\n",
    "1. Celda de Markdown (Documentación)\n",
    "2. Código (Sin comentarios, se debe documentar lo sufiente solo en la celda de markdown)."
   ]
  },
  {
   "cell_type": "markdown",
   "id": "dd91f969",
   "metadata": {},
   "source": [
    "## Actividades: \n",
    "### 1. Importación del Dataset con Pandas\n",
    "\n",
    "En esta sección, se debe utilizar la librería Pandas para cargar el archivo CSV que contiene los datos de las calificaciones en un DataFrame, que es la estructura de datos fundamental para el análisis con Pandas.\n",
    "\n",
    "\n",
    "\n",
    "### 2. Exploración Inicial de los Datos\n",
    "\n",
    "A continuación, se deben emplear métodos de Pandas para obtener una visión general del dataset. Esto incluye mostrar las primeras filas, obtener un resumen de la información del DataFrame (tipos de datos, valores no nulos), y calcular estadísticas descriptivas de las columnas numéricas.\n",
    "\n",
    "### 3. Limpieza y Normalización de los Datos\n",
    "\n",
    "Esta etapa crucial deben aplicar la corrección de diversos errores presentes en el dataset. Se abordarán los valores faltantes, la inconsistencia en el formato de la columna 'Asistencia', los posibles valores atípicos y la normalización de los nombres de estudiantes y materias a un formato consistente (por ejemplo, capitalización).\n",
    "\n",
    "### 4. Obtención de Estadísticas Descriptivas\n",
    "\n",
    "Después de la limpieza, deben calcular nuevamente las estadísticas descriptivas para observar el impacto del proceso de limpieza en los datos numéricos. También se pueden calcular estadísticas específicas por grupo (por ejemplo, promedio de calificaciones por materia).\n",
    "\n",
    "### 5. Visualización de los Datos con Matplotlib\n",
    "\n",
    "En esta sección, deben utilizar la librería Matplotlib para crear visualizaciones que permitan comprender mejor la distribución de las calificaciones y la asistencia. Se generarán histogramas, diagramas de dispersión y gráficos de barras.\n",
    "\n",
    "### 6. Exportación a Archivo SQLite\n",
    "\n",
    "Finalmente, deben utilizar la funcionalidad de Pandas para guardar el DataFrame procesado en una base de datos SQLite. Esto permite almacenar los datos de forma estructurada para su posterior consulta y uso.\n",
    "\n"
   ]
  },
  {
   "cell_type": "markdown",
   "id": "d131bb0e",
   "metadata": {},
   "source": [
    "## Importación del Dataset con Pandas "
   ]
  },
  {
   "cell_type": "markdown",
   "id": "d865be66",
   "metadata": {},
   "source": [
    "Importamos pandas y le asignamos el alias pd\n",
    "* `import pandas as pd`\n",
    " \n",
    " Se lee el archivo CSV llamado 'datasets_calificaciones.csv' y lo carga en un DataFrame llamado df\n"
   ]
  },
  {
   "cell_type": "code",
   "execution_count": 73,
   "id": "5961bab4",
   "metadata": {},
   "outputs": [],
   "source": [
    "import pandas as pd\n",
    "df = pd.read_csv('./datasets_calificaciones.csv')"
   ]
  },
  {
   "cell_type": "markdown",
   "id": "afc5037c",
   "metadata": {},
   "source": [
    "## Exploración Inicial de los Datos"
   ]
  },
  {
   "cell_type": "markdown",
   "id": "3f37fd52",
   "metadata": {},
   "source": [
    "Una vez creado el df, podemos utilizar metodos de pandas que nos ayudaran a observar mejor los datos.\n",
    "* df.head()           # Primeras 5 filas\n",
    "* df.info()           # Info general: tipos de datos, nulos, etc."
   ]
  },
  {
   "cell_type": "code",
   "execution_count": 74,
   "id": "6b2f2419",
   "metadata": {},
   "outputs": [
    {
     "data": {
      "text/html": [
       "<div>\n",
       "<style scoped>\n",
       "    .dataframe tbody tr th:only-of-type {\n",
       "        vertical-align: middle;\n",
       "    }\n",
       "\n",
       "    .dataframe tbody tr th {\n",
       "        vertical-align: top;\n",
       "    }\n",
       "\n",
       "    .dataframe thead th {\n",
       "        text-align: right;\n",
       "    }\n",
       "</style>\n",
       "<table border=\"1\" class=\"dataframe\">\n",
       "  <thead>\n",
       "    <tr style=\"text-align: right;\">\n",
       "      <th></th>\n",
       "      <th>estudiante</th>\n",
       "      <th>Materia</th>\n",
       "      <th>Parcial 1</th>\n",
       "      <th>Parcial 2</th>\n",
       "      <th>Final</th>\n",
       "      <th>Asistencia</th>\n",
       "    </tr>\n",
       "  </thead>\n",
       "  <tbody>\n",
       "    <tr>\n",
       "      <th>0</th>\n",
       "      <td>ana pérez</td>\n",
       "      <td>matematicas</td>\n",
       "      <td>8</td>\n",
       "      <td>7.5</td>\n",
       "      <td>9</td>\n",
       "      <td>95%</td>\n",
       "    </tr>\n",
       "    <tr>\n",
       "      <th>1</th>\n",
       "      <td>carlos lópez</td>\n",
       "      <td>fisica</td>\n",
       "      <td>6.2</td>\n",
       "      <td>7</td>\n",
       "      <td>NaN</td>\n",
       "      <td>88%</td>\n",
       "    </tr>\n",
       "    <tr>\n",
       "      <th>2</th>\n",
       "      <td>maría gómez</td>\n",
       "      <td>quimica</td>\n",
       "      <td>9</td>\n",
       "      <td>8.8</td>\n",
       "      <td>9.5</td>\n",
       "      <td>100%</td>\n",
       "    </tr>\n",
       "    <tr>\n",
       "      <th>3</th>\n",
       "      <td>pedro rodríguez</td>\n",
       "      <td>historia</td>\n",
       "      <td>7.5</td>\n",
       "      <td>6</td>\n",
       "      <td>7</td>\n",
       "      <td>75</td>\n",
       "    </tr>\n",
       "    <tr>\n",
       "      <th>4</th>\n",
       "      <td>laura vargas</td>\n",
       "      <td>matematicas</td>\n",
       "      <td></td>\n",
       "      <td>9.2</td>\n",
       "      <td>8.5</td>\n",
       "      <td>92%</td>\n",
       "    </tr>\n",
       "  </tbody>\n",
       "</table>\n",
       "</div>"
      ],
      "text/plain": [
       "        estudiante      Materia Parcial 1 Parcial 2 Final Asistencia\n",
       "0        ana pérez  matematicas         8       7.5     9        95%\n",
       "1     carlos lópez       fisica       6.2         7   NaN        88%\n",
       "2      maría gómez      quimica         9       8.8   9.5       100%\n",
       "3  pedro rodríguez     historia       7.5         6     7         75\n",
       "4     laura vargas  matematicas                 9.2   8.5        92%"
      ]
     },
     "execution_count": 74,
     "metadata": {},
     "output_type": "execute_result"
    }
   ],
   "source": [
    "df.head()\n"
   ]
  },
  {
   "cell_type": "code",
   "execution_count": 75,
   "id": "993e75fe",
   "metadata": {},
   "outputs": [
    {
     "name": "stdout",
     "output_type": "stream",
     "text": [
      "<class 'pandas.core.frame.DataFrame'>\n",
      "RangeIndex: 100 entries, 0 to 99\n",
      "Data columns (total 6 columns):\n",
      " #   Column      Non-Null Count  Dtype \n",
      "---  ------      --------------  ----- \n",
      " 0   estudiante  100 non-null    object\n",
      " 1   Materia     100 non-null    object\n",
      " 2   Parcial 1   95 non-null     object\n",
      " 3   Parcial 2   90 non-null     object\n",
      " 4   Final       89 non-null     object\n",
      " 5   Asistencia  100 non-null    object\n",
      "dtypes: object(6)\n",
      "memory usage: 4.8+ KB\n"
     ]
    }
   ],
   "source": [
    "df.info()\n"
   ]
  },
  {
   "cell_type": "markdown",
   "id": "05a576ee",
   "metadata": {},
   "source": [
    "Se muestra un resumen estadístico del DataFrame incluyendo todas las columnas (numéricas y no numéricas)"
   ]
  },
  {
   "cell_type": "code",
   "execution_count": 76,
   "id": "5e62327c",
   "metadata": {},
   "outputs": [
    {
     "name": "stdout",
     "output_type": "stream",
     "text": [
      "<bound method NDFrame.describe of          estudiante      Materia Parcial 1 Parcial 2 Final Asistencia\n",
      "0         ana pérez  matematicas         8       7.5     9        95%\n",
      "1      carlos lópez       fisica       6.2         7   NaN        88%\n",
      "2       maría gómez      quimica         9       8.8   9.5       100%\n",
      "3   pedro rodríguez     historia       7.5         6     7         75\n",
      "4      laura vargas  matematicas                 9.2   8.5        92%\n",
      "..              ...          ...       ...       ...   ...        ...\n",
      "95  josefina torres     historia       7.4       6.8   7.2        81%\n",
      "96  bautista vargas  matematicas       8.7       NaN   8.5        92%\n",
      "97        emma soto       fisica       6.6       7.0   6.4        83%\n",
      "98       mateo díaz      quimica       9.5       9.7              98%\n",
      "99  sofía fernández     historia       7.1       7.6   7.5        87%\n",
      "\n",
      "[100 rows x 6 columns]>\n"
     ]
    }
   ],
   "source": [
    "df.describe(include='all')\n",
    "print(df.describe)\n",
    "\n"
   ]
  },
  {
   "cell_type": "markdown",
   "id": "c98cbc77",
   "metadata": {},
   "source": [
    "## Limpieza y normalizacion de datos "
   ]
  },
  {
   "cell_type": "markdown",
   "id": "7c3c4c6e",
   "metadata": {},
   "source": [
    "Se convierte la columna 'Asistencia' a valores numéricos. Si hay errores (valores no convertibles), los reemplaza con NaN.\n",
    "\n",
    "Con el método pd.to_numeric  convierte todos los valores de esa columna a números (enteros o decimales).\n",
    "\n",
    "Se muestra los primeros 5 valores de la columna 'Asistencia' del DataFrame"
   ]
  },
  {
   "cell_type": "code",
   "execution_count": 77,
   "id": "13d069c7",
   "metadata": {},
   "outputs": [
    {
     "data": {
      "text/plain": [
       "0     NaN\n",
       "1     NaN\n",
       "2     NaN\n",
       "3    75.0\n",
       "4     NaN\n",
       "Name: Asistencia, dtype: float64"
      ]
     },
     "execution_count": 77,
     "metadata": {},
     "output_type": "execute_result"
    }
   ],
   "source": [
    "df['Asistencia'] = pd.to_numeric(df['Asistencia'], errors='coerce')\n",
    "df['Asistencia'].head()"
   ]
  },
  {
   "cell_type": "markdown",
   "id": "09cbe2e2",
   "metadata": {},
   "source": [
    "Se reemplaza los valores NaN en la columna 'Asistencia' con el promedio de esa misma columna"
   ]
  },
  {
   "cell_type": "code",
   "execution_count": 78,
   "id": "f737afb7",
   "metadata": {},
   "outputs": [
    {
     "name": "stdout",
     "output_type": "stream",
     "text": [
      "0     75.0\n",
      "1     75.0\n",
      "2     75.0\n",
      "3     75.0\n",
      "4     75.0\n",
      "      ... \n",
      "95    75.0\n",
      "96    75.0\n",
      "97    75.0\n",
      "98    75.0\n",
      "99    75.0\n",
      "Name: Asistencia, Length: 100, dtype: float64\n"
     ]
    }
   ],
   "source": [
    "df['Asistencia'] = df['Asistencia'].fillna(df['Asistencia'].mean())\n",
    "print(df['Asistencia'])\n"
   ]
  },
  {
   "cell_type": "code",
   "execution_count": 79,
   "id": "5f974a96",
   "metadata": {},
   "outputs": [
    {
     "data": {
      "text/html": [
       "<div>\n",
       "<style scoped>\n",
       "    .dataframe tbody tr th:only-of-type {\n",
       "        vertical-align: middle;\n",
       "    }\n",
       "\n",
       "    .dataframe tbody tr th {\n",
       "        vertical-align: top;\n",
       "    }\n",
       "\n",
       "    .dataframe thead th {\n",
       "        text-align: right;\n",
       "    }\n",
       "</style>\n",
       "<table border=\"1\" class=\"dataframe\">\n",
       "  <thead>\n",
       "    <tr style=\"text-align: right;\">\n",
       "      <th></th>\n",
       "      <th>estudiante</th>\n",
       "      <th>Materia</th>\n",
       "      <th>Parcial 1</th>\n",
       "      <th>Parcial 2</th>\n",
       "      <th>Final</th>\n",
       "      <th>Asistencia</th>\n",
       "    </tr>\n",
       "  </thead>\n",
       "  <tbody>\n",
       "    <tr>\n",
       "      <th>0</th>\n",
       "      <td>ana pérez</td>\n",
       "      <td>matematicas</td>\n",
       "      <td>8</td>\n",
       "      <td>7.5</td>\n",
       "      <td>9</td>\n",
       "      <td>75.0</td>\n",
       "    </tr>\n",
       "    <tr>\n",
       "      <th>1</th>\n",
       "      <td>carlos lópez</td>\n",
       "      <td>fisica</td>\n",
       "      <td>6.2</td>\n",
       "      <td>7</td>\n",
       "      <td>NaN</td>\n",
       "      <td>75.0</td>\n",
       "    </tr>\n",
       "    <tr>\n",
       "      <th>2</th>\n",
       "      <td>maría gómez</td>\n",
       "      <td>quimica</td>\n",
       "      <td>9</td>\n",
       "      <td>8.8</td>\n",
       "      <td>9.5</td>\n",
       "      <td>75.0</td>\n",
       "    </tr>\n",
       "    <tr>\n",
       "      <th>3</th>\n",
       "      <td>pedro rodríguez</td>\n",
       "      <td>historia</td>\n",
       "      <td>7.5</td>\n",
       "      <td>6</td>\n",
       "      <td>7</td>\n",
       "      <td>75.0</td>\n",
       "    </tr>\n",
       "    <tr>\n",
       "      <th>4</th>\n",
       "      <td>laura vargas</td>\n",
       "      <td>matematicas</td>\n",
       "      <td></td>\n",
       "      <td>9.2</td>\n",
       "      <td>8.5</td>\n",
       "      <td>75.0</td>\n",
       "    </tr>\n",
       "  </tbody>\n",
       "</table>\n",
       "</div>"
      ],
      "text/plain": [
       "        estudiante      Materia Parcial 1 Parcial 2 Final  Asistencia\n",
       "0        ana pérez  matematicas         8       7.5     9        75.0\n",
       "1     carlos lópez       fisica       6.2         7   NaN        75.0\n",
       "2      maría gómez      quimica         9       8.8   9.5        75.0\n",
       "3  pedro rodríguez     historia       7.5         6     7        75.0\n",
       "4     laura vargas  matematicas                 9.2   8.5        75.0"
      ]
     },
     "execution_count": 79,
     "metadata": {},
     "output_type": "execute_result"
    }
   ],
   "source": [
    "df.head()\n"
   ]
  },
  {
   "cell_type": "markdown",
   "id": "7d575479",
   "metadata": {},
   "source": [
    "Lista con los nombres de las columnas que se desea convertir a valores numéricos\n",
    "\n",
    "Para cada columna en la lista, convierte sus valores a tipo numérico\n",
    "\n",
    "Si hay errores en la conversión, los reemplaza con NaN"
   ]
  },
  {
   "cell_type": "code",
   "execution_count": 80,
   "id": "e2347a08",
   "metadata": {},
   "outputs": [],
   "source": [
    "cols_numericas = ['Parcial 1', 'Parcial 2', 'Final']\n",
    "\n",
    "df[cols_numericas] = df[cols_numericas].apply(lambda col: pd.to_numeric(col, errors='coerce'))\n"
   ]
  },
  {
   "cell_type": "code",
   "execution_count": 81,
   "id": "b386cddf",
   "metadata": {},
   "outputs": [
    {
     "name": "stdout",
     "output_type": "stream",
     "text": [
      "    Parcial 1  Parcial 2  Final\n",
      "0         8.0        7.5    9.0\n",
      "1         6.2        7.0    NaN\n",
      "2         9.0        8.8    9.5\n",
      "3         7.5        6.0    7.0\n",
      "4         NaN        9.2    8.5\n",
      "..        ...        ...    ...\n",
      "95        7.4        6.8    7.2\n",
      "96        8.7        NaN    8.5\n",
      "97        6.6        7.0    6.4\n",
      "98        9.5        9.7    NaN\n",
      "99        7.1        7.6    7.5\n",
      "\n",
      "[100 rows x 3 columns]\n"
     ]
    }
   ],
   "source": [
    "print(df[cols_numericas])\n"
   ]
  },
  {
   "cell_type": "markdown",
   "id": "82e1e9fa",
   "metadata": {},
   "source": [
    "Reemplazamos los NaN de cada columna en la lista por la media de esa columna usando apply"
   ]
  },
  {
   "cell_type": "code",
   "execution_count": 82,
   "id": "add1a093",
   "metadata": {},
   "outputs": [],
   "source": [
    "df[cols_numericas] = df[cols_numericas].apply(lambda col: col.fillna(col.mean()))\n"
   ]
  },
  {
   "cell_type": "markdown",
   "id": "9d019440",
   "metadata": {},
   "source": [
    "Imprimimos la cantidad de valores NaN (faltantes) que hay en cada columna listada en 'cols_numericas'"
   ]
  },
  {
   "cell_type": "code",
   "execution_count": 83,
   "id": "ef4811e5",
   "metadata": {},
   "outputs": [
    {
     "name": "stdout",
     "output_type": "stream",
     "text": [
      "Parcial 1    0\n",
      "Parcial 2    0\n",
      "Final        0\n",
      "dtype: int64\n"
     ]
    }
   ],
   "source": [
    "print(df[cols_numericas].isna().sum())\n"
   ]
  },
  {
   "cell_type": "markdown",
   "id": "b4b605ec",
   "metadata": {},
   "source": [
    "Reemplazamos los ceros (0) en las columnas numéricas y 'Asistencia' con la mediana de cada columna"
   ]
  },
  {
   "cell_type": "code",
   "execution_count": 84,
   "id": "0e4566b7",
   "metadata": {},
   "outputs": [],
   "source": [
    "columnas = cols_numericas + ['Asistencia']\n",
    "df[columnas] = df[columnas].apply(lambda col: col.replace(0, col.median()))\n",
    "\n"
   ]
  },
  {
   "cell_type": "code",
   "execution_count": 85,
   "id": "e7e0c6b3",
   "metadata": {},
   "outputs": [
    {
     "name": "stdout",
     "output_type": "stream",
     "text": [
      "         estudiante      Materia  Parcial 1  Parcial 2     Final  Asistencia\n",
      "0         ana pérez  matematicas   8.000000   7.500000  9.000000        75.0\n",
      "1      carlos lópez       fisica   6.200000   7.000000  7.894118        75.0\n",
      "2       maría gómez      quimica   9.000000   8.800000  9.500000        75.0\n",
      "3   pedro rodríguez     historia   7.500000   6.000000  7.000000        75.0\n",
      "4      laura vargas  matematicas   7.831818   9.200000  8.500000        75.0\n",
      "..              ...          ...        ...        ...       ...         ...\n",
      "95  josefina torres     historia   7.400000   6.800000  7.200000        75.0\n",
      "96  bautista vargas  matematicas   8.700000   7.830682  8.500000        75.0\n",
      "97        emma soto       fisica   6.600000   7.000000  6.400000        75.0\n",
      "98       mateo díaz      quimica   9.500000   9.700000  7.894118        75.0\n",
      "99  sofía fernández     historia   7.100000   7.600000  7.500000        75.0\n",
      "\n",
      "[100 rows x 6 columns]\n"
     ]
    }
   ],
   "source": [
    "print(df)\n"
   ]
  },
  {
   "cell_type": "code",
   "execution_count": 86,
   "id": "a5dc0acb",
   "metadata": {},
   "outputs": [],
   "source": [
    "df[\"Asistencia\"] = df[\"Asistencia\"].replace(\"%\",\"\", regex=True)"
   ]
  },
  {
   "cell_type": "code",
   "execution_count": 87,
   "id": "261e00ad",
   "metadata": {},
   "outputs": [
    {
     "name": "stdout",
     "output_type": "stream",
     "text": [
      "0     75.0\n",
      "1     75.0\n",
      "2     75.0\n",
      "3     75.0\n",
      "4     75.0\n",
      "      ... \n",
      "95    75.0\n",
      "96    75.0\n",
      "97    75.0\n",
      "98    75.0\n",
      "99    75.0\n",
      "Name: Asistencia, Length: 100, dtype: float64\n"
     ]
    }
   ],
   "source": [
    "print(df[\"Asistencia\"])\n"
   ]
  },
  {
   "cell_type": "markdown",
   "id": "b056b198",
   "metadata": {},
   "source": [
    "Normalizamos el formato de las columnas estudiante y Materia"
   ]
  },
  {
   "cell_type": "markdown",
   "id": "6ca68fbd",
   "metadata": {},
   "source": [
    "Convertimos todos los valores de la columna 'Materia' a minúsculas y elimina los espacios en blanco al principio y al final\n",
    "\n",
    "Convertimos los valores de la columna 'estudiante' a formato título (primer letra en mayúscula) y elimina los espacios en blanco al principio y al final"
   ]
  },
  {
   "cell_type": "code",
   "execution_count": 88,
   "id": "75f82c6d",
   "metadata": {},
   "outputs": [],
   "source": [
    "\n",
    "df['Materia'] = df['Materia'].str.lower().str.strip()\n",
    "df['estudiante'] = df['estudiante'].str.title().str.strip()"
   ]
  },
  {
   "cell_type": "code",
   "execution_count": 89,
   "id": "d70cc9a4",
   "metadata": {},
   "outputs": [
    {
     "name": "stdout",
     "output_type": "stream",
     "text": [
      "0           Ana Pérez\n",
      "1        Carlos López\n",
      "2         María Gómez\n",
      "3     Pedro Rodríguez\n",
      "4        Laura Vargas\n",
      "           ...       \n",
      "95    Josefina Torres\n",
      "96    Bautista Vargas\n",
      "97          Emma Soto\n",
      "98         Mateo Díaz\n",
      "99    Sofía Fernández\n",
      "Name: estudiante, Length: 100, dtype: object\n"
     ]
    }
   ],
   "source": [
    "print(df['estudiante'])"
   ]
  },
  {
   "cell_type": "markdown",
   "id": "f3b15487",
   "metadata": {},
   "source": [
    "Se convierte todos los valores de la columna 'Materia' a formato título (primera letra de cada palabra en mayúscula)"
   ]
  },
  {
   "cell_type": "code",
   "execution_count": 90,
   "id": "f0024253",
   "metadata": {},
   "outputs": [],
   "source": [
    "df['Materia'] = df['Materia'].str.title()"
   ]
  },
  {
   "cell_type": "code",
   "execution_count": 91,
   "id": "09caca5d",
   "metadata": {},
   "outputs": [
    {
     "name": "stdout",
     "output_type": "stream",
     "text": [
      "0     Matematicas\n",
      "1          Fisica\n",
      "2         Quimica\n",
      "3        Historia\n",
      "4     Matematicas\n",
      "         ...     \n",
      "95       Historia\n",
      "96    Matematicas\n",
      "97         Fisica\n",
      "98        Quimica\n",
      "99       Historia\n",
      "Name: Materia, Length: 100, dtype: object\n"
     ]
    }
   ],
   "source": [
    "print(df['Materia'])"
   ]
  },
  {
   "cell_type": "markdown",
   "id": "7195ea24",
   "metadata": {},
   "source": [
    "Se selecciona las columnas 'Parcial 1', 'Parcial 2', 'Final', 'Asistencia' y se elimina las filas que contienen valores NaN"
   ]
  },
  {
   "cell_type": "code",
   "execution_count": 92,
   "id": "c796e024",
   "metadata": {},
   "outputs": [],
   "source": [
    "df_filtrado = df[['Parcial 1', 'Parcial 2', 'Final', 'Asistencia']].dropna()"
   ]
  },
  {
   "cell_type": "markdown",
   "id": "465f90b4",
   "metadata": {},
   "source": [
    "## Obtención de Estadísticas Descriptivas "
   ]
  },
  {
   "cell_type": "markdown",
   "id": "042f7cc0",
   "metadata": {},
   "source": [
    "Se genera un resumen estadístico de las columnas numéricas del DataFrame"
   ]
  },
  {
   "cell_type": "code",
   "execution_count": 93,
   "id": "d23c26e7",
   "metadata": {},
   "outputs": [
    {
     "data": {
      "text/html": [
       "<div>\n",
       "<style scoped>\n",
       "    .dataframe tbody tr th:only-of-type {\n",
       "        vertical-align: middle;\n",
       "    }\n",
       "\n",
       "    .dataframe tbody tr th {\n",
       "        vertical-align: top;\n",
       "    }\n",
       "\n",
       "    .dataframe thead th {\n",
       "        text-align: right;\n",
       "    }\n",
       "</style>\n",
       "<table border=\"1\" class=\"dataframe\">\n",
       "  <thead>\n",
       "    <tr style=\"text-align: right;\">\n",
       "      <th></th>\n",
       "      <th>Parcial 1</th>\n",
       "      <th>Parcial 2</th>\n",
       "      <th>Final</th>\n",
       "      <th>Asistencia</th>\n",
       "    </tr>\n",
       "  </thead>\n",
       "  <tbody>\n",
       "    <tr>\n",
       "      <th>count</th>\n",
       "      <td>100.000000</td>\n",
       "      <td>100.000000</td>\n",
       "      <td>100.000000</td>\n",
       "      <td>100.0</td>\n",
       "    </tr>\n",
       "    <tr>\n",
       "      <th>mean</th>\n",
       "      <td>7.831818</td>\n",
       "      <td>7.830682</td>\n",
       "      <td>7.894118</td>\n",
       "      <td>75.0</td>\n",
       "    </tr>\n",
       "    <tr>\n",
       "      <th>std</th>\n",
       "      <td>1.134184</td>\n",
       "      <td>1.108950</td>\n",
       "      <td>1.111133</td>\n",
       "      <td>0.0</td>\n",
       "    </tr>\n",
       "    <tr>\n",
       "      <th>min</th>\n",
       "      <td>5.500000</td>\n",
       "      <td>5.800000</td>\n",
       "      <td>5.700000</td>\n",
       "      <td>75.0</td>\n",
       "    </tr>\n",
       "    <tr>\n",
       "      <th>25%</th>\n",
       "      <td>7.075000</td>\n",
       "      <td>6.975000</td>\n",
       "      <td>7.100000</td>\n",
       "      <td>75.0</td>\n",
       "    </tr>\n",
       "    <tr>\n",
       "      <th>50%</th>\n",
       "      <td>7.831818</td>\n",
       "      <td>7.830682</td>\n",
       "      <td>7.894118</td>\n",
       "      <td>75.0</td>\n",
       "    </tr>\n",
       "    <tr>\n",
       "      <th>75%</th>\n",
       "      <td>8.800000</td>\n",
       "      <td>8.800000</td>\n",
       "      <td>8.825000</td>\n",
       "      <td>75.0</td>\n",
       "    </tr>\n",
       "    <tr>\n",
       "      <th>max</th>\n",
       "      <td>9.900000</td>\n",
       "      <td>9.900000</td>\n",
       "      <td>9.900000</td>\n",
       "      <td>75.0</td>\n",
       "    </tr>\n",
       "  </tbody>\n",
       "</table>\n",
       "</div>"
      ],
      "text/plain": [
       "        Parcial 1   Parcial 2       Final  Asistencia\n",
       "count  100.000000  100.000000  100.000000       100.0\n",
       "mean     7.831818    7.830682    7.894118        75.0\n",
       "std      1.134184    1.108950    1.111133         0.0\n",
       "min      5.500000    5.800000    5.700000        75.0\n",
       "25%      7.075000    6.975000    7.100000        75.0\n",
       "50%      7.831818    7.830682    7.894118        75.0\n",
       "75%      8.800000    8.800000    8.825000        75.0\n",
       "max      9.900000    9.900000    9.900000        75.0"
      ]
     },
     "execution_count": 93,
     "metadata": {},
     "output_type": "execute_result"
    }
   ],
   "source": [
    "df.describe()"
   ]
  },
  {
   "cell_type": "markdown",
   "id": "40dde2af",
   "metadata": {},
   "source": [
    "Calculamos el promedio de las columnas 'Parcial 1', 'Parcial 2' y 'Final' y guarda los resultados en la lista 'promedios'"
   ]
  },
  {
   "cell_type": "code",
   "execution_count": 94,
   "id": "ed9813bb",
   "metadata": {},
   "outputs": [
    {
     "name": "stdout",
     "output_type": "stream",
     "text": [
      "[np.float64(7.831818181818182), np.float64(7.8306818181818185), np.float64(7.894117647058822)]\n"
     ]
    }
   ],
   "source": [
    "\n",
    "promedios = [\n",
    "    df['Parcial 1'].mean(),\n",
    "    df['Parcial 2'].mean(),\n",
    "    df['Final'].mean()\n",
    "]\n",
    "\n",
    "print(promedios)"
   ]
  },
  {
   "cell_type": "markdown",
   "id": "83535428",
   "metadata": {},
   "source": [
    "## Visualización de los Datos con Matplotlib"
   ]
  },
  {
   "cell_type": "markdown",
   "id": "fe4c3ed7",
   "metadata": {},
   "source": [
    "Importamos matplotlib"
   ]
  },
  {
   "cell_type": "code",
   "execution_count": 95,
   "id": "dfa3c567",
   "metadata": {},
   "outputs": [],
   "source": [
    "import matplotlib.pyplot as plt\n"
   ]
  },
  {
   "cell_type": "markdown",
   "id": "1d31cbe9",
   "metadata": {},
   "source": [
    "Generamos un histograma para las calificaciones de tres parciales ('Parcial 1', 'Parcial 2' y 'Final') usando la librería matplotlib"
   ]
  },
  {
   "cell_type": "code",
   "execution_count": 96,
   "id": "322838e4",
   "metadata": {},
   "outputs": [
    {
     "data": {
      "text/plain": [
       "<Figure size 1000x600 with 0 Axes>"
      ]
     },
     "metadata": {},
     "output_type": "display_data"
    },
    {
     "data": {
      "image/png": "[encoded data removed]",
      "text/plain": [
       "<Figure size 1000x600 with 1 Axes>"
      ]
     },
     "metadata": {},
     "output_type": "display_data"
    }
   ],
   "source": [
    "plt.style.use('_mpl-gallery')\n",
    "\n",
    "plt.figure(figsize=(10,6))\n",
    "\n",
    "plt.figure(figsize=(10,6))\n",
    "plt.hist(df['Parcial 1'].dropna(), bins=10, alpha=0.6, edgecolor='black', label='Parcial 1')\n",
    "plt.hist(df['Parcial 2'].dropna(), bins=10, alpha=0.6, edgecolor='black', label='Parcial 2')\n",
    "plt.hist(df['Final'].dropna(), bins=10, alpha=0.6, edgecolor='black', label='Final')\n",
    "\n",
    "plt.xlabel('Calificación')\n",
    "plt.ylabel('Frecuencia')\n",
    "plt.title('Histograma de calificaciones')\n",
    "plt.legend()\n",
    "plt.show()"
   ]
  },
  {
   "cell_type": "code",
   "execution_count": 97,
   "id": "75e013ee",
   "metadata": {},
   "outputs": [
    {
     "data": {
      "image/png": "[encoded data removed]",
      "text/plain": [
       "<Figure size 1000x600 with 1 Axes>"
      ]
     },
     "metadata": {},
     "output_type": "display_data"
    }
   ],
   "source": [
    "import matplotlib.pyplot as plt\n",
    "\n",
    "plt.style.use('_mpl-gallery')  \n",
    "plt.figure(figsize=(10,6))                                                                                                               \n",
    "\n",
    "# Histograma de los tres exámenes\n",
    "plt.hist(df['Parcial 1'].dropna(), bins=20, alpha=0.6, edgecolor='black', label='Parcial 1', density=True, color='skyblue')\n",
    "plt.hist(df['Parcial 2'].dropna(), bins=20, alpha=0.6, edgecolor='black', label='Parcial 2', density=True, color='lightgreen')\n",
    "plt.hist(df['Final'].dropna(),     bins=20, alpha=0.6, edgecolor='black', label='Final',     density=True, color='salmon')\n",
    "\n",
    "plt.xlabel('Calificación')\n",
    "plt.ylabel('Densidad')\n",
    "plt.title('Histograma de Calificaciones - Parciales y Final')\n",
    "plt.legend()\n",
    "plt.show()\n"
   ]
  },
  {
   "cell_type": "markdown",
   "id": "8b5f5ecd",
   "metadata": {},
   "source": [
    "Generamos un gráfico de dispersión que compara las calificaciones de los parciales y final con la asistencia de los estudiantes"
   ]
  },
  {
   "cell_type": "code",
   "execution_count": null,
   "id": "98ace60e",
   "metadata": {},
   "outputs": [],
   "source": [
    "\n",
    "plt.figure(figsize=(10,6))\n",
    "plt.scatter(df_filtrado['Parcial 1'], df_filtrado['Asistencia'], alpha=0.6, color='black', label='Parcial 1')\n",
    "plt.scatter(df_filtrado['Parcial 2'], df_filtrado['Asistencia'], alpha=0.6, color='red', label='Parcial 2')\n",
    "plt.scatter(df_filtrado['Final'], df_filtrado['Asistencia'], alpha=0.6, color='blue', label='Final')\n",
    "\n",
    "plt.xlabel('Calificación')\n",
    "plt.ylabel('Asistencia (%)')\n",
    "plt.title('Dispersión: Calificaciones vs Asistencia')\n",
    "plt.legend()\n",
    "plt.grid(True)\n",
    "plt.show()"
   ]
  },
  {
   "cell_type": "markdown",
   "id": "96e5a77b",
   "metadata": {},
   "source": [
    "Generamos un gráfico de barras agrupadas que muestra los promedios de las calificaciones de tres exámenes (Parcial 1, Parcial 2, y Final) para cada materia"
   ]
  },
  {
   "cell_type": "code",
   "execution_count": 99,
   "id": "c1aa9c07",
   "metadata": {},
   "outputs": [
    {
     "data": {
      "image/png": "[encoded data removed]",
      "text/plain": [
       "<Figure size 1200x600 with 1 Axes>"
      ]
     },
     "metadata": {},
     "output_type": "display_data"
    }
   ],
   "source": [
    "import numpy as np\n",
    "\n",
    "df_promedios = df.groupby('Materia')[['Parcial 1', 'Parcial 2', 'Final']].mean()\n",
    "\n",
    "x = np.arange(len(df_promedios))\n",
    "width = 0.3\n",
    "\n",
    "plt.figure(figsize=(12,6))\n",
    "plt.bar(x - width, df_promedios['Parcial 1'], width, label='Parcial 1', color='green')\n",
    "plt.bar(x, df_promedios['Parcial 2'], width, label='Parcial 2', color='orange')\n",
    "plt.bar(x + width, df_promedios['Final'], width, label='Final', color='blue')\n",
    "\n",
    "plt.xlabel('Materia')\n",
    "plt.ylabel('Calificación promedio')\n",
    "plt.title('Promedio de calificaciones por materia')\n",
    "plt.xticks(x, df_promedios.index, rotation=45)  # Nombres de materias en el eje X\n",
    "plt.legend()\n",
    "plt.grid(True, linestyle=\"--\", alpha=0.5)\n",
    "\n",
    "\n",
    "plt.show()"
   ]
  },
  {
   "cell_type": "markdown",
   "id": "efdb2446",
   "metadata": {},
   "source": [
    "## Exportación a Archivo SQLite "
   ]
  },
  {
   "cell_type": "markdown",
   "id": "c824b3cf",
   "metadata": {},
   "source": [
    "Se crea una conexión a una base de datos SQLite \n",
    "Exportar el DataFrame limpio a una tabla llamada \"calificaciones\"\n",
    "Cerrar la conexión"
   ]
  },
  {
   "cell_type": "code",
   "execution_count": 100,
   "id": "10603289",
   "metadata": {},
   "outputs": [],
   "source": [
    "import sqlite3\n",
    "\n",
    "\n",
    "conn = sqlite3.connect(\"calificaciones.db\") \n",
    "\n",
    "\n",
    "df.to_sql(\"calificaciones\", conn, if_exists=\"replace\", index=False)\n",
    "\n",
    "\n",
    "conn.close()\n",
    "\n"
   ]
  }
 ],
 "metadata": {
  "kernelspec": {
   "display_name": "venv",
   "language": "python",
   "name": "python3"
  },
  "language_info": {
   "codemirror_mode": {
    "name": "ipython",
    "version": 3
   },
   "file_extension": ".py",
   "mimetype": "text/x-python",
   "name": "python",
   "nbconvert_exporter": "python",
   "pygments_lexer": "ipython3",
   "version": "3.13.2"
  }
 },
 "nbformat": 4,
 "nbformat_minor": 5
}
